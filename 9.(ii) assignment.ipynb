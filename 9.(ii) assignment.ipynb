{
 "cells": [
  {
   "cell_type": "code",
   "execution_count": 1,
   "id": "c208b740-1649-4174-a968-894a505dba72",
   "metadata": {},
   "outputs": [
    {
     "data": {
      "text/plain": [
       "\"\\nopen()\\n\\n'r'       open for reading (default)\\n'w'       open for writing, truncating the file first\\n'x'       create a new file and open it for writing\\n'a'       open for writing, appending to the end of the file if it exists\\n'b'       binary mode\\n't'       text mode (default)\\n'+'       open a disk file for updating (reading and writing)\\n'U'       universal newline mode (deprecated)\\n\""
      ]
     },
     "execution_count": 1,
     "metadata": {},
     "output_type": "execute_result"
    }
   ],
   "source": [
    "#1\n",
    "'''\n",
    "open()\n",
    "\n",
    "'r'       open for reading (default)\n",
    "'w'       open for writing, truncating the file first\n",
    "'x'       create a new file and open it for writing\n",
    "'a'       open for writing, appending to the end of the file if it exists\n",
    "'b'       binary mode\n",
    "'t'       text mode (default)\n",
    "'+'       open a disk file for updating (reading and writing)\n",
    "'U'       universal newline mode (deprecated)\n",
    "'''"
   ]
  },
  {
   "cell_type": "code",
   "execution_count": 2,
   "id": "0ff58790-bb4d-4650-8afc-94505d1111d9",
   "metadata": {},
   "outputs": [
    {
     "data": {
      "text/plain": [
       "\"close() function is used to close a open file.\\n\\n   * There are limits on the number of files you can have open.\\n   * It puts your program in the garbage collectors hands - though the file in theory will be auto closed,\\n   * it may not be closed. Python 3 and Cpython generally do a pretty good job at garbage collecting, but not \\n     always, and other variants generally suck at it.\\n\\n   * It can slow down your program. Too many things open, and thus more used space in the RAM, will impact performance.\\n\\n   * For the most part, many changes to files in python do not go into effect until after the file is closed,\\n     so if your script edits, leaves open, and reads a file, it won't see the edits.\\n   * You could, theoretically, run in to limits of how many files you can have open.\\n       \\n\""
      ]
     },
     "execution_count": 2,
     "metadata": {},
     "output_type": "execute_result"
    }
   ],
   "source": [
    "#2\n",
    "'''close() function is used to close a open file.\n",
    "\n",
    "   * There are limits on the number of files you can have open.\n",
    "   * It puts your program in the garbage collectors hands - though the file in theory will be auto closed,\n",
    "   * it may not be closed. Python 3 and Cpython generally do a pretty good job at garbage collecting, but not \n",
    "     always, and other variants generally suck at it.\n",
    "\n",
    "   * It can slow down your program. Too many things open, and thus more used space in the RAM, will impact performance.\n",
    "\n",
    "   * For the most part, many changes to files in python do not go into effect until after the file is closed,\n",
    "     so if your script edits, leaves open, and reads a file, it won't see the edits.\n",
    "   * You could, theoretically, run in to limits of how many files you can have open.\n",
    "       \n",
    "'''"
   ]
  },
  {
   "cell_type": "code",
   "execution_count": 3,
   "id": "f14cca0d-1794-47dc-abd0-3a25fb055724",
   "metadata": {},
   "outputs": [],
   "source": [
    "#3\n",
    "f =open(\"textAssignment.txt\" , \"w\")"
   ]
  },
  {
   "cell_type": "code",
   "execution_count": 4,
   "id": "276afac3-067b-4ff4-9233-f7b59cc38708",
   "metadata": {},
   "outputs": [
    {
     "data": {
      "text/plain": [
       "33"
      ]
     },
     "execution_count": 4,
     "metadata": {},
     "output_type": "execute_result"
    }
   ],
   "source": [
    "f.write('I want to become a Data Scientist')"
   ]
  },
  {
   "cell_type": "code",
   "execution_count": 5,
   "id": "7899bc40-7bd4-45c4-bc2e-972f1b5faaeb",
   "metadata": {},
   "outputs": [],
   "source": [
    "f.close()"
   ]
  },
  {
   "cell_type": "code",
   "execution_count": 6,
   "id": "a52c9869-c277-4839-b80c-508b33e8ba1f",
   "metadata": {},
   "outputs": [],
   "source": [
    "f =open(\"textAssignment.txt\" , \"r\")"
   ]
  },
  {
   "cell_type": "code",
   "execution_count": 7,
   "id": "b76cae41-ed69-4bac-a90d-2131dc17ecb0",
   "metadata": {},
   "outputs": [
    {
     "data": {
      "text/plain": [
       "'I want to become a Data Scientist'"
      ]
     },
     "execution_count": 7,
     "metadata": {},
     "output_type": "execute_result"
    }
   ],
   "source": [
    "f.read()"
   ]
  },
  {
   "cell_type": "code",
   "execution_count": 8,
   "id": "f4f77b2e-bd5d-4138-ba8b-315615d792dd",
   "metadata": {},
   "outputs": [],
   "source": [
    "f.close()"
   ]
  },
  {
   "cell_type": "code",
   "execution_count": 9,
   "id": "543d4521-b1c3-4268-b128-6c8185c24c85",
   "metadata": {},
   "outputs": [],
   "source": [
    "#4\n",
    "f =open(\"textAssignment2.txt\" , \"w\")"
   ]
  },
  {
   "cell_type": "code",
   "execution_count": 10,
   "id": "175b0d1d-9015-45ff-b4ff-c2ab5ecbbad9",
   "metadata": {},
   "outputs": [
    {
     "data": {
      "text/plain": [
       "71"
      ]
     },
     "execution_count": 10,
     "metadata": {},
     "output_type": "execute_result"
    }
   ],
   "source": [
    "f.write('i am sunny \\n i am data science student \\n i  am very curious to learn it')"
   ]
  },
  {
   "cell_type": "code",
   "execution_count": 11,
   "id": "ee73c45e-cfcc-45e8-9c47-2bf7fbca65da",
   "metadata": {},
   "outputs": [],
   "source": [
    "f.close()"
   ]
  },
  {
   "cell_type": "code",
   "execution_count": 12,
   "id": "ee18905a-7b77-49ad-9e15-20e91701d74a",
   "metadata": {},
   "outputs": [],
   "source": [
    "f =open(\"textAssignment2.txt\" , \"r\")"
   ]
  },
  {
   "cell_type": "code",
   "execution_count": 13,
   "id": "4f29e91f-968f-4fe0-a552-66b2b99c4e81",
   "metadata": {},
   "outputs": [
    {
     "data": {
      "text/plain": [
       "'i am sunny \\n i am data science student \\n i  am very curious to learn it'"
      ]
     },
     "execution_count": 13,
     "metadata": {},
     "output_type": "execute_result"
    }
   ],
   "source": [
    "f.read()"
   ]
  },
  {
   "cell_type": "code",
   "execution_count": 14,
   "id": "67f4f908-45ef-47ff-ad6f-41a734e4d5c5",
   "metadata": {},
   "outputs": [
    {
     "data": {
      "text/plain": [
       "0"
      ]
     },
     "execution_count": 14,
     "metadata": {},
     "output_type": "execute_result"
    }
   ],
   "source": [
    "f.seek(0)"
   ]
  },
  {
   "cell_type": "code",
   "execution_count": 15,
   "id": "cd5910a1-2530-4e74-a600-05c5e17f9f14",
   "metadata": {},
   "outputs": [
    {
     "data": {
      "text/plain": [
       "'i am sunny \\n'"
      ]
     },
     "execution_count": 15,
     "metadata": {},
     "output_type": "execute_result"
    }
   ],
   "source": [
    "f.readline()"
   ]
  },
  {
   "cell_type": "code",
   "execution_count": 16,
   "id": "41a5dd2e-d521-4eed-87f9-13d55063a235",
   "metadata": {},
   "outputs": [
    {
     "data": {
      "text/plain": [
       "0"
      ]
     },
     "execution_count": 16,
     "metadata": {},
     "output_type": "execute_result"
    }
   ],
   "source": [
    "f.seek(0)"
   ]
  },
  {
   "cell_type": "code",
   "execution_count": 17,
   "id": "2ef396fc-2d71-4241-8fb0-4eb7053b66f1",
   "metadata": {},
   "outputs": [
    {
     "data": {
      "text/plain": [
       "['i am sunny \\n',\n",
       " ' i am data science student \\n',\n",
       " ' i  am very curious to learn it']"
      ]
     },
     "execution_count": 17,
     "metadata": {},
     "output_type": "execute_result"
    }
   ],
   "source": [
    "f.readlines()"
   ]
  },
  {
   "cell_type": "code",
   "execution_count": 18,
   "id": "41348769-45f8-4c47-ac7f-198f6b35e4ed",
   "metadata": {},
   "outputs": [],
   "source": [
    "f.close()"
   ]
  },
  {
   "cell_type": "code",
   "execution_count": 19,
   "id": "77abf86a-6660-4f20-9328-c78a665e9d78",
   "metadata": {},
   "outputs": [
    {
     "data": {
      "text/plain": [
       "'The with statement creates a context manager that simplify the way files are opened and closed in Python programs.\\n   Without using the with statement a developer has to remember to close file handlers. This is automatically done by\\n   Python when using the with open.'"
      ]
     },
     "execution_count": 19,
     "metadata": {},
     "output_type": "execute_result"
    }
   ],
   "source": [
    "#5\n",
    "'''The with statement creates a context manager that simplify the way files are opened and closed in Python programs.\n",
    "   Without using the with statement a developer has to remember to close file handlers. This is automatically done by\n",
    "   Python when using the with open.'''"
   ]
  },
  {
   "cell_type": "code",
   "execution_count": 20,
   "id": "3ca51526-5e44-436b-862d-fd62be98c2d5",
   "metadata": {},
   "outputs": [],
   "source": [
    "#6"
   ]
  },
  {
   "cell_type": "code",
   "execution_count": 21,
   "id": "0ed0f117-9619-4b05-be02-5956d975a05e",
   "metadata": {},
   "outputs": [
    {
     "name": "stdin",
     "output_type": "stream",
     "text": [
      "Enter the name of the employee:  sunny\n",
      "Enter the name of the employee:  saini\n",
      "Enter the name of the employee:  dahiya\n"
     ]
    },
    {
     "name": "stdout",
     "output_type": "stream",
     "text": [
      "Data is written into the file.\n"
     ]
    }
   ],
   "source": [
    "#The write() function writes a string to the file. The function returns the number of characters written.\n",
    "\n",
    "file = open(\"Employees.txt\", \"w\")\n",
    "  \n",
    "for i in range(3):\n",
    "   name = input(\"Enter the name of the employee: \")\n",
    "   file.write(name)\n",
    "   file.write(\"\\n\")\n",
    "     \n",
    "file.close()\n",
    "  \n",
    "print(\"Data is written into the file.\")"
   ]
  },
  {
   "cell_type": "code",
   "execution_count": 22,
   "id": "57399310-5afd-4c29-b57b-c44e4de49e03",
   "metadata": {},
   "outputs": [],
   "source": [
    "file = open(\"Employees.txt\", \"r\")"
   ]
  },
  {
   "cell_type": "code",
   "execution_count": 23,
   "id": "f80c5fd9-6dfb-40a8-9538-079c6eb51652",
   "metadata": {},
   "outputs": [
    {
     "data": {
      "text/plain": [
       "'sunny\\nsaini\\ndahiya\\n'"
      ]
     },
     "execution_count": 23,
     "metadata": {},
     "output_type": "execute_result"
    }
   ],
   "source": [
    "file.read()"
   ]
  },
  {
   "cell_type": "code",
   "execution_count": 24,
   "id": "1d7d03d7-f1df-4221-ae45-4ee282a1c8f9",
   "metadata": {},
   "outputs": [
    {
     "data": {
      "text/plain": [
       "''"
      ]
     },
     "execution_count": 24,
     "metadata": {},
     "output_type": "execute_result"
    }
   ],
   "source": [
    "file.readline()"
   ]
  },
  {
   "cell_type": "code",
   "execution_count": 25,
   "id": "e385cb61-36b7-4357-a207-1e2ae627c7c8",
   "metadata": {},
   "outputs": [
    {
     "data": {
      "text/plain": [
       "0"
      ]
     },
     "execution_count": 25,
     "metadata": {},
     "output_type": "execute_result"
    }
   ],
   "source": [
    "file.seek(0)"
   ]
  },
  {
   "cell_type": "code",
   "execution_count": 26,
   "id": "69f02ec2-9066-4631-a3a6-8c15a4eccc1c",
   "metadata": {},
   "outputs": [
    {
     "data": {
      "text/plain": [
       "'sunny\\n'"
      ]
     },
     "execution_count": 26,
     "metadata": {},
     "output_type": "execute_result"
    }
   ],
   "source": [
    "file.readline()"
   ]
  },
  {
   "cell_type": "code",
   "execution_count": 27,
   "id": "2aa8cf90-cebb-4bf5-8f69-c42f1c3f44a0",
   "metadata": {},
   "outputs": [],
   "source": [
    "file.close()"
   ]
  },
  {
   "cell_type": "code",
   "execution_count": 28,
   "id": "f4b4df58-031d-404e-a698-ba1796bf1443",
   "metadata": {},
   "outputs": [
    {
     "name": "stdin",
     "output_type": "stream",
     "text": [
      "Enter the name of the employee:  sunny\n",
      "Enter the name of the employee:  saini\n",
      "Enter the name of the employee:  dahiya\n"
     ]
    },
    {
     "name": "stdout",
     "output_type": "stream",
     "text": [
      "Data is written into the file.\n"
     ]
    }
   ],
   "source": [
    "'''The writelines() function writes a list of strings to the file. Unlike the write() function,\n",
    "   it does not add any newline characters between the strings, so you need to include them if you\n",
    "   want to write each string on a new line.'''\n",
    "\n",
    "file1 = open(\"Employees.txt\", \"w\")\n",
    "lst = []\n",
    "for i in range(3):\n",
    "    name = input(\"Enter the name of the employee: \")\n",
    "    lst.append(name + '\\n')\n",
    "      \n",
    "file1.writelines(lst)\n",
    "file1.close()\n",
    "print(\"Data is written into the file.\") "
   ]
  },
  {
   "cell_type": "code",
   "execution_count": 29,
   "id": "7dd1f70d-7212-4b08-abaa-b46c073f6522",
   "metadata": {},
   "outputs": [],
   "source": [
    "file1 = open(\"Employees.txt\" , \"r\")"
   ]
  },
  {
   "cell_type": "code",
   "execution_count": 30,
   "id": "5636ea37-5faf-494c-9d2f-883a0b453fc4",
   "metadata": {},
   "outputs": [
    {
     "data": {
      "text/plain": [
       "'sunny\\nsaini\\ndahiya\\n'"
      ]
     },
     "execution_count": 30,
     "metadata": {},
     "output_type": "execute_result"
    }
   ],
   "source": [
    "file1.read()"
   ]
  },
  {
   "cell_type": "code",
   "execution_count": 31,
   "id": "73f61afd-6313-4c32-939d-cde38249bef2",
   "metadata": {},
   "outputs": [],
   "source": [
    "file1.close()"
   ]
  },
  {
   "cell_type": "code",
   "execution_count": null,
   "id": "4af7ada8-2bdc-4fb2-b733-5600251d5a93",
   "metadata": {},
   "outputs": [],
   "source": []
  }
 ],
 "metadata": {
  "kernelspec": {
   "display_name": "Python 3 (ipykernel)",
   "language": "python",
   "name": "python3"
  },
  "language_info": {
   "codemirror_mode": {
    "name": "ipython",
    "version": 3
   },
   "file_extension": ".py",
   "mimetype": "text/x-python",
   "name": "python",
   "nbconvert_exporter": "python",
   "pygments_lexer": "ipython3",
   "version": "3.10.6"
  }
 },
 "nbformat": 4,
 "nbformat_minor": 5
}
